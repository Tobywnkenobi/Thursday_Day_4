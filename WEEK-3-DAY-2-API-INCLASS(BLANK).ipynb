{
 "cells": [
  {
   "cell_type": "markdown",
   "metadata": {
    "id": "ObV5_k3qTHI9"
   },
   "source": [
    "# APIs\n"
   ]
  },
  {
   "cell_type": "markdown",
   "metadata": {
    "id": "NaFupEOiTHJC"
   },
   "source": [
    "## Tasks Today:\n",
    "1) <b>Requests and the pokemon API </b> <br>\n"
   ]
  },
  {
   "cell_type": "markdown",
   "metadata": {
    "id": "Zxpke9pSTHJD"
   },
   "source": [
    "# working with APis"
   ]
  },
  {
   "cell_type": "markdown",
   "metadata": {
    "id": "lyjXgpcCTHJD"
   },
   "source": [
    "<p> What exactly is an API? <br> <br>\n",
    "API is the acronym for Application Programming Interface, which is a software intermediary that allows two applications to talk to each other. Each time you use an app like Facebook, send an instant message, or check the weather on your phone, you're using an API. </p>"
   ]
  },
  {
   "cell_type": "markdown",
   "metadata": {
    "id": "1SVoog_rTHJE"
   },
   "source": [
    "### The Poke API  allows you to retreive a pokemon's information from PokeAPI https://pokeapi.co/\n",
    "\n"
   ]
  },
  {
   "cell_type": "code",
   "execution_count": 10,
   "metadata": {
    "id": "xVeZOfd9THJF"
   },
   "outputs": [
    {
     "name": "stdout",
     "output_type": "stream",
     "text": [
      "What pokemon do you want information for?pickachu\n",
      "ERROR, STATUS CODE 404\n"
     ]
    }
   ],
   "source": [
    "# making an API call\n",
    "import requests\n",
    "\n",
    "pokemon = input('What pokemon do you want information for?')\n",
    "\n",
    "response = requests.get(f'https://pokeapi.co/api/v2/pokemon/{pokemon}')\n",
    "\n",
    "if response.status_code == 200:\n",
    "    print('SUCCESS')\n",
    "    data = response.json()\n",
    "else:\n",
    "    print(f'ERROR, STATUS CODE {response.status_code}')"
   ]
  },
  {
   "cell_type": "markdown",
   "metadata": {
    "id": "1RvTFEkyTHJH"
   },
   "source": [
    "### Display a Pokemon's name, weight, abilities, and types"
   ]
  },
  {
   "cell_type": "code",
   "execution_count": null,
   "metadata": {
    "id": "sIWc1CZnTHJI"
   },
   "outputs": [],
   "source": [
    "# get the name\n",
    "print(data['name'])\n",
    "\n",
    "name = data['name']\n",
    "print(name)\n"
   ]
  },
  {
   "cell_type": "code",
   "execution_count": null,
   "metadata": {
    "id": "F3pb50AmTHJJ"
   },
   "outputs": [],
   "source": [
    "# get types\n"
   ]
  },
  {
   "cell_type": "code",
   "execution_count": null,
   "metadata": {
    "id": "0XQaKHiwTHJK"
   },
   "outputs": [],
   "source": [
    "# get weight\n"
   ]
  },
  {
   "cell_type": "code",
   "execution_count": null,
   "metadata": {
    "id": "CPQTa8sDTHJK"
   },
   "outputs": [],
   "source": [
    "# get abilities\n"
   ]
  },
  {
   "cell_type": "code",
   "execution_count": null,
   "metadata": {
    "id": "Of-4VUk9THJK"
   },
   "outputs": [],
   "source": [
    "# Create a structure for a single pokemon\n"
   ]
  },
  {
   "cell_type": "code",
   "execution_count": null,
   "metadata": {
    "id": "mnDNyaEDTHJL"
   },
   "outputs": [],
   "source": [
    "psyduck = {\n",
    "    'name': current_poke_data['name'],\n",
    "    'types': current_poke_datea['types'],\n",
    "    'weight': current_poke_data['weight'],\n",
    "    'abilities': current_poke_data['abilities']\n",
    "    \n",
    "}"
   ]
  },
  {
   "cell_type": "markdown",
   "metadata": {
    "id": "TvSJuYsaTHJL"
   },
   "source": [
    "#### Create a function to Pull in your own Pokemon's data"
   ]
  },
  {
   "cell_type": "code",
   "execution_count": null,
   "metadata": {
    "id": "9ATOS0vNTHJL"
   },
   "outputs": [],
   "source": [
    "def poke_api_call(pokemon):\n",
    "    pokemon_dict = {}\n",
    "    res = get('https://pokeapi.co/api/v2/pokemon/psyduck')\n",
    "    if res.ok:\n",
    "        data = res.json()\n",
    "        pokemon_dict = {\n",
    "            'name': current_poke_data['name'],\n",
    "            'types' : curent_poke_data['types'],\n",
    "            'weight' : current_poke_data['weight'],\n",
    "            'abilities' : current_poke_data['abilities']\n",
    "        }\n",
    "    else:\n",
    "        print(f\"Invalid Request, status code {res.status_code}, Please enter valid pokemon\")\n",
    "        return {'message' :f\"Invalid request, status code {}}"
   ]
  },
  {
   "cell_type": "markdown",
   "metadata": {
    "id": "xrTKBkEATHJM"
   },
   "source": [
    "Choose your pokemon"
   ]
  },
  {
   "cell_type": "code",
   "execution_count": null,
   "metadata": {
    "id": "oSWewZoQTHJM"
   },
   "outputs": [],
   "source": [
    "from random import randint\n",
    "# Random number generated for each pokemon id\n",
    "random_team = [randint(1,898) for i in range(6)]\n",
    "\n",
    "your_team = ['electabuzz', 'haunter','tyranitar','blaziken','marowak','dragonair']\n",
    "\n",
    "random_six_pokemon = {i: poke_api_call(i) for i in random_team}\n",
    "\n",
    "print(random_six_pokemon)\n",
    "\n"
   ]
  },
  {
   "cell_type": "markdown",
   "metadata": {
    "id": "FFBaMJkeTHJN"
   },
   "source": [
    "#### Use your function to create a dictionary of your Johto League 6  (favorite 6 pokemon)"
   ]
  },
  {
   "cell_type": "code",
   "execution_count": 7,
   "metadata": {
    "id": "NMe_MMX-THJN"
   },
   "outputs": [
    {
     "ename": "SyntaxError",
     "evalue": "expected ':' (4121141158.py, line 11)",
     "output_type": "error",
     "traceback": [
      "\u001b[1;36m  Cell \u001b[1;32mIn[7], line 11\u001b[1;36m\u001b[0m\n\u001b[1;33m    for k,v in my_six_pokemon.items()\u001b[0m\n\u001b[1;37m                                     ^\u001b[0m\n\u001b[1;31mSyntaxError\u001b[0m\u001b[1;31m:\u001b[0m expected ':'\n"
     ]
    }
   ],
   "source": [
    "# Place all 6 of your pokemon on the object below, each pokemon should have at least as much info as Pikachu did.\n",
    "from random import randint\n",
    "\n",
    "print(random_team)\n",
    "\n",
    "my_six_pokemon = {}\n",
    "\n",
    "for pokemon in your_team:\n",
    "    my_six_pokemon[pokemon] = get_api_call(pokemon)\n",
    "    \n",
    "for k,v in my_six_pokemon.items():\n",
    "    \n",
    "\n"
   ]
  },
  {
   "cell_type": "markdown",
   "metadata": {
    "id": "MuE_EtH2THJN"
   },
   "source": [
    "## Lets create a class called 'Pokemon' and create our pokemon as instances"
   ]
  },
  {
   "cell_type": "code",
   "execution_count": 9,
   "metadata": {
    "id": "LrKcprj5THJO"
   },
   "outputs": [
    {
     "ename": "NameError",
     "evalue": "name 'pokemon' is not defined",
     "output_type": "error",
     "traceback": [
      "\u001b[1;31m---------------------------------------------------------------------------\u001b[0m",
      "\u001b[1;31mNameError\u001b[0m                                 Traceback (most recent call last)",
      "Cell \u001b[1;32mIn[9], line 38\u001b[0m\n\u001b[0;32m     35\u001b[0m             \u001b[38;5;28mprint\u001b[39m(types)\n\u001b[0;32m     36\u001b[0m             \u001b[38;5;28mself\u001b[39m\u001b[38;5;241m.\u001b[39mtypes \u001b[38;5;241m=\u001b[39m types\n\u001b[1;32m---> 38\u001b[0m nidoking \u001b[38;5;241m=\u001b[39m Pokemon(pokemon)\n",
      "\u001b[1;31mNameError\u001b[0m: name 'pokemon' is not defined"
     ]
    }
   ],
   "source": [
    "class Pokemon():\n",
    "   def __init__(self,pokemon):\n",
    "    self.name = pokemon\n",
    "    self.weight= None\n",
    "    self.abilities=[]\n",
    "    self.types=[]\n",
    "    self.poke_api_call()\n",
    "    \n",
    "    def __repr__(self):\n",
    "        return f'<Pokemon: {self.name}>'\n",
    "\n",
    "    def poke_api_call(self):\n",
    "        res = get('https://pokeapi.co/api/v2/pokemon/{self.name}')\n",
    "        if res.ok:\n",
    "            data = res.json()\n",
    "            self.name = data['name']\n",
    "            self.weight = data['weight']\n",
    "            self.abilities = data['abilities']\n",
    "            self.types= data['types']\n",
    "        else:\n",
    "            print(f'Invalid Request, status code {res.status_code}, Please enter valid pokemon')\n",
    "            \n",
    "        def extract_abilities(self):\n",
    "            abilities = []\n",
    "            for ability in self.abilities:\n",
    "                pass\n",
    "            print(abilities)\n",
    "            self.abilities = abilities\n",
    "            \n",
    "             \n",
    "        def extract_types(self):\n",
    "            types = []\n",
    "            for types in self.types:\n",
    "                pass\n",
    "            print(types)\n",
    "            self.types = types\n",
    "            \n",
    "nidoking = Pokemon(pokemon)\n",
    "\n",
    "        \n",
    "        \n",
    "        "
   ]
  },
  {
   "cell_type": "markdown",
   "metadata": {
    "id": "ueW2wZ5aTHJO"
   },
   "source": [
    "### Let's Catch some Pokemon"
   ]
  },
  {
   "cell_type": "code",
   "execution_count": null,
   "metadata": {
    "id": "HsiyhKozTHJO"
   },
   "outputs": [],
   "source": []
  },
  {
   "cell_type": "code",
   "execution_count": null,
   "metadata": {
    "id": "k_FCXOgRTHJP"
   },
   "outputs": [],
   "source": [
    "pokedex = {}\n"
   ]
  },
  {
   "cell_type": "markdown",
   "metadata": {
    "id": "7h6wh0bbTHJP"
   },
   "source": [
    "## Exercise 1:"
   ]
  },
  {
   "cell_type": "markdown",
   "metadata": {
    "id": "LPCtMl4UTHJP"
   },
   "source": [
    "### Create a Method prints an image of your pokemon\n",
    "\n",
    "<p>HINT: You may need another attribute as well to store your image url within. </p>"
   ]
  },
  {
   "cell_type": "code",
   "execution_count": null,
   "metadata": {
    "id": "35bv82OrTHJP"
   },
   "outputs": [],
   "source": [
    "# Display an image in Jupyter notebook\n",
    "from IPython.display import Image\n",
    "\n",
    "# display(Image( 'https://i.redd.it/45n4mhusa8l41.jpg', width = 300))\n"
   ]
  },
  {
   "cell_type": "code",
   "execution_count": null,
   "metadata": {
    "id": "Fnebk3CcTHJP"
   },
   "outputs": [],
   "source": [
    "# recreate your pokemon class here\n",
    "class Pokemon:\n",
    "    pass"
   ]
  },
  {
   "cell_type": "code",
   "execution_count": null,
   "metadata": {
    "id": "XKlhbmVJTHJP"
   },
   "outputs": [],
   "source": []
  },
  {
   "cell_type": "code",
   "execution_count": null,
   "metadata": {
    "id": "sE4r1L80THJQ"
   },
   "outputs": [],
   "source": [
    "# Calling our new method\n"
   ]
  },
  {
   "cell_type": "markdown",
   "metadata": {
    "id": "nhwQOo-zTHJQ"
   },
   "source": [
    "## Exercise 2:"
   ]
  },
  {
   "cell_type": "markdown",
   "metadata": {
    "id": "uYdACSqkTHJQ"
   },
   "source": [
    "### Create a Method that evolves your Pokemon\n",
    "If your pokemon can't evolve any further print a message that says \"\\<name of pokemon> can't evolve.\""
   ]
  },
  {
   "cell_type": "code",
   "execution_count": null,
   "metadata": {
    "id": "-TYNHut6THJQ"
   },
   "outputs": [],
   "source": []
  },
  {
   "cell_type": "markdown",
   "metadata": {
    "id": "H7gfqk1iTHJQ"
   },
   "source": [
    "Now let's evolve a few"
   ]
  },
  {
   "cell_type": "code",
   "execution_count": null,
   "metadata": {
    "id": "FSc3PQHaTHJR",
    "scrolled": true
   },
   "outputs": [],
   "source": []
  },
  {
   "cell_type": "code",
   "execution_count": null,
   "metadata": {
    "id": "N_0kRhnWTHJR"
   },
   "outputs": [],
   "source": []
  },
  {
   "cell_type": "code",
   "execution_count": null,
   "metadata": {
    "id": "3ornmWvGTHJR"
   },
   "outputs": [],
   "source": []
  },
  {
   "cell_type": "markdown",
   "metadata": {
    "id": "9cXZJczTTHJR"
   },
   "source": [
    "#  Final Exercise: <br> <br>Create a Move_Tutor Class that will allow the Pokemon Class to inherit a move list.\n",
    "<br>\n",
    "<p>for an added bonus you can make sure that if a pokemon has 4 moves the user can choose one of them to replace with a new move. </p>"
   ]
  },
  {
   "cell_type": "code",
   "execution_count": null,
   "metadata": {
    "id": "2qGBinuFTHJR"
   },
   "outputs": [],
   "source": [
    "class Move_Tutor:\n",
    "    def __init__(self):\n",
    "        self.move_list = []"
   ]
  },
  {
   "cell_type": "code",
   "execution_count": null,
   "metadata": {
    "id": "oZaDdo86THJX"
   },
   "outputs": [],
   "source": []
  },
  {
   "cell_type": "code",
   "execution_count": null,
   "metadata": {
    "id": "GpNOEBceTHJY",
    "outputId": "50902ee4-470b-4475-8ef0-092c135267ed"
   },
   "outputs": [
    {
     "name": "stdout",
     "output_type": "stream",
     "text": [
      "What move would you like to teach pikachu? spark\n",
      "pikachu learned spark!\n"
     ]
    }
   ],
   "source": [
    "pikachu.teach_move()\n"
   ]
  },
  {
   "cell_type": "code",
   "execution_count": null,
   "metadata": {
    "id": "6iuqfc9YTHJZ",
    "outputId": "42844331-6f52-4d16-ac4e-6576470777ab"
   },
   "outputs": [
    {
     "name": "stdout",
     "output_type": "stream",
     "text": [
      "pikachu's moves'\n",
      "thunder\n",
      "surf\n",
      "earthquake\n"
     ]
    }
   ],
   "source": [
    "pikachu.show_moves()"
   ]
  }
 ],
 "metadata": {
  "colab": {
   "provenance": []
  },
  "kernelspec": {
   "display_name": "Python 3 (ipykernel)",
   "language": "python",
   "name": "python3"
  },
  "language_info": {
   "codemirror_mode": {
    "name": "ipython",
    "version": 3
   },
   "file_extension": ".py",
   "mimetype": "text/x-python",
   "name": "python",
   "nbconvert_exporter": "python",
   "pygments_lexer": "ipython3",
   "version": "3.11.3"
  }
 },
 "nbformat": 4,
 "nbformat_minor": 1
}
